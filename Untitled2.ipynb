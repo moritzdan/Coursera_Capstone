{
 "cells": [
  {
   "cell_type": "markdown",
   "metadata": {},
   "source": [
    "## Business Problem\n",
    "\n",
    "The city chosen is Curitiba, a city in south Brazil, capital of Paraná. It has 75 neighborhoods, divided into 9 regions. The city itself has a population of 1.948.626 people. It's continuosly built-up urban area, is the eighth largest city in Brazil.\n",
    "\n",
    "Curitiba is considered a leading regional city, with a strong market, culture, art, finance and education areas. Its industrial district hosts larges national and international companies, over last decades the district is continuously growing because of the city’s important role in government and commercial business.\n",
    "\n",
    "There are many business in Curitiba, is place with a great competition, especially talking about resturants. Each belonging to different categories like Chinese , Italian , French, etc.\n",
    "\n",
    "So in this project I would like to help a stakeholder to understand the city market with some insights aimed at opening an Italian restaurant in Curitba.\n",
    "\n",
    "Some questions we are looking to answer:\n",
    "What is best location in Curitiba for Italian Cuisine ?\n",
    "Which areas have large number of Italian Resturants Market ?\n",
    "Which all areas have less resturants ?\n",
    "What places are have best restaurants in Curitiba?\n",
    "\n",
    "Target audience\n",
    "A business entrepreneur that wants open a new Italian restaurant in Curitiba.\n",
    "Business Analyst, who wish to analyze the neighborhoods of Curitiba using python, Jupiter notebook and some machine learning techniques.\n"
   ]
  },
  {
   "cell_type": "markdown",
   "metadata": {},
   "source": []
  },
  {
   "cell_type": "code",
   "execution_count": null,
   "metadata": {},
   "outputs": [],
   "source": []
  },
  {
   "cell_type": "code",
   "execution_count": null,
   "metadata": {},
   "outputs": [],
   "source": []
  }
 ],
 "metadata": {
  "kernelspec": {
   "display_name": "Python 3",
   "language": "python",
   "name": "python3"
  },
  "language_info": {
   "codemirror_mode": {
    "name": "ipython",
    "version": 3
   },
   "file_extension": ".py",
   "mimetype": "text/x-python",
   "name": "python",
   "nbconvert_exporter": "python",
   "pygments_lexer": "ipython3",
   "version": "3.8.5"
  }
 },
 "nbformat": 4,
 "nbformat_minor": 4
}
