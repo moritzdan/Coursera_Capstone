{
 "cells": [
  {
   "cell_type": "markdown",
   "metadata": {},
   "source": [
    "# Data Requirements:\n",
    "\n",
    "## 1. We will need a list of Curitiba Regions broken down by Neighborhoods\n",
    "\n",
    "## 2. We will need a list of Curitba Regions populations broken down by Neighborhoods\n",
    "\n",
    "## 3. We will need a list of Curitba Regions average after tax income broken down by Neighborhoods\n",
    "\n",
    "The following link provides the three previously lists that we are looking for:\n",
    "https://pt.wikipedia.org/wiki/Lista_de_bairros_de_Curitiba\n",
    "\n",
    "## 4. What is the Brazilian National Average After Tax Income \n",
    "https://tradingeconomics.com/brazil/wages\n",
    "\n",
    "## 5. We will need a list of all Restaurant Venues from all neighborhoods in Curitba by Neighborhoods\n",
    "\n",
    "We use 4SQUARE API to download all venues from all neighborhoods in Curitiba. \n",
    "https://api.foursquare.com\n",
    "Extract Restaurants and only include Restaurants in our Data Set.\n",
    "\n",
    "## To answer this questions:\n",
    "Which neighborhoods in Curitiba have clusters of like Restaurants?\n",
    "How populated each neighborhood is?\n",
    "Which neighborhood should he target to open the restaurant?\n",
    "\n"
   ]
  },
  {
   "cell_type": "code",
   "execution_count": null,
   "metadata": {},
   "outputs": [],
   "source": []
  }
 ],
 "metadata": {
  "kernelspec": {
   "display_name": "Python 3",
   "language": "python",
   "name": "python3"
  },
  "language_info": {
   "codemirror_mode": {
    "name": "ipython",
    "version": 3
   },
   "file_extension": ".py",
   "mimetype": "text/x-python",
   "name": "python",
   "nbconvert_exporter": "python",
   "pygments_lexer": "ipython3",
   "version": "3.8.5"
  }
 },
 "nbformat": 4,
 "nbformat_minor": 4
}
