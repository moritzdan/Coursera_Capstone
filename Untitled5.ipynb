{
 "cells": [
  {
   "cell_type": "code",
   "execution_count": null,
   "metadata": {},
   "outputs": [
    {
     "name": "stdout",
     "output_type": "stream",
     "text": [
      "Requirement already satisfied: wikipedia in ./anaconda3/lib/python3.8/site-packages (1.4.0)\n",
      "Requirement already satisfied: requests<3.0.0,>=2.0.0 in ./anaconda3/lib/python3.8/site-packages (from wikipedia) (2.24.0)\n",
      "Requirement already satisfied: beautifulsoup4 in ./anaconda3/lib/python3.8/site-packages (from wikipedia) (4.9.3)\n",
      "Requirement already satisfied: certifi>=2017.4.17 in ./anaconda3/lib/python3.8/site-packages (from requests<3.0.0,>=2.0.0->wikipedia) (2020.6.20)\n",
      "Requirement already satisfied: chardet<4,>=3.0.2 in ./anaconda3/lib/python3.8/site-packages (from requests<3.0.0,>=2.0.0->wikipedia) (3.0.4)\n",
      "Requirement already satisfied: urllib3!=1.25.0,!=1.25.1,<1.26,>=1.21.1 in ./anaconda3/lib/python3.8/site-packages (from requests<3.0.0,>=2.0.0->wikipedia) (1.25.11)\n",
      "Requirement already satisfied: idna<3,>=2.5 in ./anaconda3/lib/python3.8/site-packages (from requests<3.0.0,>=2.0.0->wikipedia) (2.10)\n",
      "Requirement already satisfied: soupsieve>1.2; python_version >= \"3.0\" in ./anaconda3/lib/python3.8/site-packages (from beautifulsoup4->wikipedia) (2.0.1)\n",
      "Requirement already satisfied: folium in ./anaconda3/lib/python3.8/site-packages (0.5.0)\n",
      "Requirement already satisfied: branca in ./anaconda3/lib/python3.8/site-packages (from folium) (0.4.2)\n",
      "Requirement already satisfied: jinja2 in ./anaconda3/lib/python3.8/site-packages (from folium) (2.11.2)\n",
      "Requirement already satisfied: requests in ./anaconda3/lib/python3.8/site-packages (from folium) (2.24.0)\n",
      "Requirement already satisfied: six in ./anaconda3/lib/python3.8/site-packages (from folium) (1.15.0)\n",
      "Requirement already satisfied: MarkupSafe>=0.23 in ./anaconda3/lib/python3.8/site-packages (from jinja2->folium) (1.1.1)\n",
      "Requirement already satisfied: certifi>=2017.4.17 in ./anaconda3/lib/python3.8/site-packages (from requests->folium) (2020.6.20)\n",
      "Requirement already satisfied: idna<3,>=2.5 in ./anaconda3/lib/python3.8/site-packages (from requests->folium) (2.10)\n",
      "Requirement already satisfied: urllib3!=1.25.0,!=1.25.1,<1.26,>=1.21.1 in ./anaconda3/lib/python3.8/site-packages (from requests->folium) (1.25.11)\n",
      "Requirement already satisfied: chardet<4,>=3.0.2 in ./anaconda3/lib/python3.8/site-packages (from requests->folium) (3.0.4)\n",
      "Requirement already satisfied: geopy in ./anaconda3/lib/python3.8/site-packages (2.1.0)\n",
      "Requirement already satisfied: geographiclib<2,>=1.49 in ./anaconda3/lib/python3.8/site-packages (from geopy) (1.50)\n",
      "Requirement already satisfied: geopandas in ./anaconda3/lib/python3.8/site-packages (0.9.0)\n",
      "Requirement already satisfied: shapely>=1.6 in ./anaconda3/lib/python3.8/site-packages (from geopandas) (1.7.1)\n",
      "Requirement already satisfied: fiona>=1.8 in ./anaconda3/lib/python3.8/site-packages (from geopandas) (1.8.18)\n",
      "Requirement already satisfied: pandas>=0.24.0 in ./anaconda3/lib/python3.8/site-packages (from geopandas) (1.1.3)\n",
      "Requirement already satisfied: pyproj>=2.2.0 in ./anaconda3/lib/python3.8/site-packages (from geopandas) (3.0.1)\n",
      "Requirement already satisfied: attrs>=17 in ./anaconda3/lib/python3.8/site-packages (from fiona>=1.8->geopandas) (20.3.0)\n",
      "Requirement already satisfied: munch in ./anaconda3/lib/python3.8/site-packages (from fiona>=1.8->geopandas) (2.5.0)\n",
      "Requirement already satisfied: click-plugins>=1.0 in ./anaconda3/lib/python3.8/site-packages (from fiona>=1.8->geopandas) (1.1.1)\n",
      "Requirement already satisfied: six>=1.7 in ./anaconda3/lib/python3.8/site-packages (from fiona>=1.8->geopandas) (1.15.0)\n",
      "Requirement already satisfied: certifi in ./anaconda3/lib/python3.8/site-packages (from fiona>=1.8->geopandas) (2020.6.20)\n",
      "Requirement already satisfied: cligj>=0.5 in ./anaconda3/lib/python3.8/site-packages (from fiona>=1.8->geopandas) (0.7.1)\n",
      "Requirement already satisfied: click<8,>=4.0 in ./anaconda3/lib/python3.8/site-packages (from fiona>=1.8->geopandas) (7.1.2)\n",
      "Requirement already satisfied: numpy>=1.15.4 in ./anaconda3/lib/python3.8/site-packages (from pandas>=0.24.0->geopandas) (1.19.2)\n",
      "Requirement already satisfied: pytz>=2017.2 in ./anaconda3/lib/python3.8/site-packages (from pandas>=0.24.0->geopandas) (2020.1)\n",
      "Requirement already satisfied: python-dateutil>=2.7.3 in ./anaconda3/lib/python3.8/site-packages (from pandas>=0.24.0->geopandas) (2.8.1)\n",
      "Requirement already satisfied: geojson in ./anaconda3/lib/python3.8/site-packages (2.5.0)\n"
     ]
    }
   ],
   "source": [
    "!pip install wikipedia\n",
    "!pip install folium\n",
    "!pip install geopy\n",
    "!pip install geopandas\n",
    "!pip install geojson\n",
    "!pip install yellowbrick"
   ]
  },
  {
   "cell_type": "code",
   "execution_count": null,
   "metadata": {},
   "outputs": [],
   "source": [
    "import pandas as pd\n",
    "from pandas.io.json import json_normalize # tranform JSON file into a pandas dataframe\n",
    "\n",
    "pd.set_option('display.max_columns', None)\n",
    "pd.set_option('display.max_rows', None)\n",
    "\n",
    "import wikipedia as wp\n",
    "import requests\n",
    "from bs4 import BeautifulSoup\n",
    "import numpy as np # library to handle data in a vectorized manner\n",
    "import json # library to handle JSON files\n",
    "from geopy.geocoders import Nominatim # convert an address into latitude and longitude values\n",
    "import geopandas as gpd\n",
    "\n",
    "# Matplotlib and associated plotting modules\n",
    "import matplotlib.cm as cm\n",
    "import matplotlib.colors as colors\n",
    "import matplotlib.pyplot as plt\n",
    "\n",
    "import folium # map rendering library\n",
    "from folium import plugins\n",
    "from folium.plugins import HeatMap\n",
    "\n",
    "print('Libraries imported.')"
   ]
  },
  {
   "cell_type": "code",
   "execution_count": null,
   "metadata": {},
   "outputs": [],
   "source": [
    "wp.set_lang(\"pt\")\n",
    "html = wp.page(\"Lista_de_bairros_de_Curitiba\").html()\n",
    "\n",
    "region1df = pd.read_html(html)[1]\n",
    "region1df=region1df.drop(0)\n",
    "region1df=region1df.drop(1)\n",
    "region1df=region1df.drop(2)\n",
    "region1df.drop(columns=2,inplace=True)\n",
    "region1df.drop(columns=3,inplace=True)\n",
    "region1df.columns = ('Neighborhood', 'Area(km2)','Population', 'Households', 'Average Salary')\n",
    "region1df[\"Region\"]= \"Bairro Novo\"\n"
   ]
  },
  {
   "cell_type": "code",
   "execution_count": null,
   "metadata": {},
   "outputs": [],
   "source": [
    "region2df = pd.read_html(html)[2]\n",
    "region2df=region2df.drop(0)\n",
    "region2df=region2df.drop(1)\n",
    "region2df=region2df.drop(2)\n",
    "region2df.drop(columns=2,inplace=True)\n",
    "region2df.drop(columns=3,inplace=True)\n",
    "region2df.columns = ('Neighborhood', 'Area(km2)','Population', 'Households', 'Average Salary')\n",
    "region2df[\"Region\"]= \"Boa Vista\"\n"
   ]
  },
  {
   "cell_type": "code",
   "execution_count": null,
   "metadata": {},
   "outputs": [],
   "source": [
    "region3df = pd.read_html(html)[3]\n",
    "region3df=region3df.drop(0)\n",
    "region3df=region3df.drop(1)\n",
    "region3df=region3df.drop(2)\n",
    "region3df.drop(columns=2,inplace=True)\n",
    "region3df.drop(columns=3,inplace=True)\n",
    "region3df.columns = ('Neighborhood', 'Area(km2)','Population', 'Households', 'Average Salary')\n",
    "region3df[\"Region\"]= \"Boqueirão\"\n"
   ]
  },
  {
   "cell_type": "code",
   "execution_count": null,
   "metadata": {},
   "outputs": [],
   "source": [
    "region4df = pd.read_html(html)[4]\n",
    "region4df=region4df.drop(0)\n",
    "region4df=region4df.drop(1)\n",
    "region4df=region4df.drop(2)\n",
    "region4df.drop(columns=2,inplace=True)\n",
    "region4df.drop(columns=3,inplace=True)\n",
    "region4df.columns = ('Neighborhood', 'Area(km2)','Population', 'Households', 'Average Salary')\n",
    "region4df[\"Region\"]= \"Cajuru\"\n"
   ]
  },
  {
   "cell_type": "code",
   "execution_count": null,
   "metadata": {},
   "outputs": [],
   "source": [
    "region5df = pd.read_html(html)[5]\n",
    "region5df=region5df.drop(0)\n",
    "region5df=region5df.drop(1)\n",
    "region5df=region5df.drop(2)\n",
    "region5df.drop(columns=2,inplace=True)\n",
    "region5df.drop(columns=3,inplace=True)\n",
    "region5df.columns = ('Neighborhood', 'Area(km2)','Population', 'Households', 'Average Salary')\n",
    "region5df[\"Region\"]= \"CIC\""
   ]
  },
  {
   "cell_type": "code",
   "execution_count": null,
   "metadata": {},
   "outputs": [],
   "source": [
    "region6df = pd.read_html(html)[6]\n",
    "region6df=region6df.drop(0)\n",
    "region6df=region6df.drop(1)\n",
    "region6df=region6df.drop(2)\n",
    "region6df.drop(columns=2,inplace=True)\n",
    "region6df.drop(columns=3,inplace=True)\n",
    "region6df.columns = ('Neighborhood', 'Area(km2)','Population', 'Households', 'Average Salary')\n",
    "region6df[\"Region\"]= \"Fazendinha-Portão\""
   ]
  },
  {
   "cell_type": "code",
   "execution_count": null,
   "metadata": {},
   "outputs": [],
   "source": [
    "region7df = pd.read_html(html)[7]\n",
    "region7df=region7df.drop(0)\n",
    "region7df=region7df.drop(1)\n",
    "region7df=region7df.drop(2)\n",
    "region7df.drop(columns=2,inplace=True)\n",
    "region7df.drop(columns=3,inplace=True)\n",
    "region7df.columns = ('Neighborhood', 'Area(km2)','Population', 'Households', 'Average Salary')\n",
    "region7df[\"Region\"]= \"Matriz\""
   ]
  },
  {
   "cell_type": "code",
   "execution_count": null,
   "metadata": {},
   "outputs": [],
   "source": [
    "region8df = pd.read_html(html)[8]\n",
    "region8df=region8df.drop(0)\n",
    "region8df=region8df.drop(1)\n",
    "region8df=region8df.drop(2)\n",
    "region8df.drop(columns=2,inplace=True)\n",
    "region8df.drop(columns=3,inplace=True)\n",
    "region8df.columns = ('Neighborhood', 'Area(km2)','Population', 'Households', 'Average Salary')\n",
    "region8df[\"Region\"]= \"Pinheirinho\""
   ]
  },
  {
   "cell_type": "code",
   "execution_count": null,
   "metadata": {},
   "outputs": [],
   "source": [
    "region9df = pd.read_html(html)[9]\n",
    "region9df=region9df.drop(0)\n",
    "region9df=region9df.drop(1)\n",
    "region9df=region9df.drop(2)\n",
    "region9df.drop(columns=2,inplace=True)\n",
    "region9df.drop(columns=3,inplace=True)\n",
    "region9df.columns = ('Neighborhood', 'Area(km2)','Population', 'Households', 'Average Salary')\n",
    "region9df[\"Region\"]= \"Santa Felicidade\""
   ]
  },
  {
   "cell_type": "code",
   "execution_count": null,
   "metadata": {},
   "outputs": [],
   "source": [
    "curitiba = pd.concat([region1df, region2df, region3df, region4df, region5df, region6df, region7df, region8df, region9df])\n",
    "curitiba = curitiba.reset_index(drop=True)\n",
    "curitiba.head()"
   ]
  },
  {
   "cell_type": "code",
   "execution_count": null,
   "metadata": {},
   "outputs": [],
   "source": [
    "url = 'https://raw.githubusercontent.com/moritzdan/Coursera_Capstone/main/Latitude_Longitud_Curitiba.csv'\n",
    "latlongdf=pd.read_csv(url)\n",
    "latlongdf.rename(columns={\"Name\":\"Neighborhood\"}, inplace=True)\n",
    "latlongdf = latlongdf.reset_index(drop=True)\n",
    "latlongdf.head()"
   ]
  },
  {
   "cell_type": "code",
   "execution_count": null,
   "metadata": {},
   "outputs": [],
   "source": [
    "curitibadf = latlongdf.join(curitiba.set_index(\"Neighborhood\"), on=\"Neighborhood\")\n",
    "curitibadf.head()"
   ]
  },
  {
   "cell_type": "code",
   "execution_count": null,
   "metadata": {},
   "outputs": [],
   "source": [
    "address = 'Curitiba, CWB'\n",
    "geolocator = Nominatim(user_agent=\"to_explorer\")\n",
    "location = geolocator.geocode(address)\n",
    "latitude = location.latitude\n",
    "longitude = location.longitude\n",
    "print('The geograpical coordinate of Curitiba are {}, {}.'.format(latitude, longitude))"
   ]
  },
  {
   "cell_type": "code",
   "execution_count": null,
   "metadata": {
    "scrolled": true
   },
   "outputs": [],
   "source": [
    "map_curitiba = folium.Map(location=[latitude, longitude], zoom_start=10)\n",
    "\n",
    "# add markers to map\n",
    "for lat, lng, borough, neighborhood in zip(curitibadf['Latitude'], \n",
    "                                           curitibadf['Longitude'],  \n",
    "                                           curitibadf['Neighborhood'],\n",
    "                                           curitibadf['Region']):\n",
    "    label = '{}, {}'.format(neighborhood, borough)\n",
    "    label = folium.Popup(label, parse_html=True)\n",
    "    folium.CircleMarker(\n",
    "        [lat, lng],\n",
    "        radius=5,\n",
    "        popup=label,\n",
    "        color='blue',\n",
    "        fill=True,\n",
    "        fill_color='#3186cc',\n",
    "        fill_opacity=0.7,\n",
    "        parse_html=False).add_to(map_curitiba)  \n",
    "    \n",
    "map_curitiba"
   ]
  },
  {
   "cell_type": "code",
   "execution_count": null,
   "metadata": {},
   "outputs": [],
   "source": [
    "## Define Foursquare Credentials and Version\n",
    "CLIENT_ID = 'CEQRLZGHL51Z1WEILKBJU2J1ECCKZYW1SJYXFE2F2EVNBXQF' # Foursquare ID\n",
    "CLIENT_SECRET = '4T0GGWQPBFDQDTTY4WLJNR0H11TYZ4MJCSOEF0BAZ25LUI4E' # Foursquare Secret\n",
    "VERSION = '20210330' # Foursquare API version\n",
    "LIMIT = 100"
   ]
  },
  {
   "cell_type": "code",
   "execution_count": null,
   "metadata": {},
   "outputs": [],
   "source": [
    "def getNearbyRestaurants(names, latitudes, longitudes, radius):\n",
    "    venues_list=[]\n",
    "    for name, lat, lng in zip(names, latitudes, longitudes):\n",
    "        # print(name)\n",
    "            \n",
    "        # create the API request URL\n",
    "        url = 'https://api.foursquare.com/v2/venues/explore?&section=food&client_id={}&client_secret={}&v={}&ll={},{}&radius={}&limit={}'.format(\n",
    "            CLIENT_ID, \n",
    "            CLIENT_SECRET, \n",
    "            VERSION,\n",
    "            lat, \n",
    "            lng, \n",
    "            radius, \n",
    "            LIMIT)\n",
    "            \n",
    "        # make the GET request\n",
    "        resp = requests.get(url).json()[\"response\"]\n",
    "        \n",
    "        if \"groups\" in resp:\n",
    "            results = resp['groups'][0]['items']\n",
    "            # return only relevant information for each nearby venue\n",
    "            venues_list.append([(\n",
    "                name, \n",
    "                lat, \n",
    "                lng, \n",
    "                v['venue']['name'], \n",
    "                v['venue']['location']['lat'], \n",
    "                v['venue']['location']['lng'],  \n",
    "                v['venue']['categories'][0]['name']) for v in results])\n",
    "\n",
    "    nearby_venues = pd.DataFrame([item for venue_list in venues_list for item in venue_list])\n",
    "    nearby_venues.columns = ['Neighborhood', \n",
    "                  'Neighborhood Latitude', \n",
    "                  'Neighborhood Longitude', \n",
    "                  'Venue', \n",
    "                  'Venue Latitude', \n",
    "                  'Venue Longitude', \n",
    "                  'Venue Category']\n",
    "    \n",
    "    return(nearby_venues)"
   ]
  },
  {
   "cell_type": "code",
   "execution_count": null,
   "metadata": {},
   "outputs": [],
   "source": [
    "curitiba_restaurants = getNearbyRestaurants(names=curitibadf['Neighborhood'],\n",
    "                                         latitudes=curitibadf['Latitude'],\n",
    "                                         longitudes=curitibadf['Longitude'],\n",
    "                                         radius=1500)"
   ]
  },
  {
   "cell_type": "code",
   "execution_count": null,
   "metadata": {},
   "outputs": [],
   "source": [
    "print(curitiba_restaurants.shape)\n",
    "curitiba_restaurants.head()"
   ]
  },
  {
   "cell_type": "code",
   "execution_count": null,
   "metadata": {},
   "outputs": [],
   "source": [
    "rest_neihborhood = curitiba_restaurants.groupby('Neighborhood').size().reset_index(name='Restaurants')\n",
    "rest_neihborhood.head()"
   ]
  },
  {
   "cell_type": "code",
   "execution_count": null,
   "metadata": {},
   "outputs": [],
   "source": [
    "cwbvegan = curitiba_restaurants['Venue Category']==\"Vegetarian / Vegan Restaurant\""
   ]
  },
  {
   "cell_type": "code",
   "execution_count": null,
   "metadata": {},
   "outputs": [],
   "source": [
    "cwbvegandf=curitiba_restaurants[cwbvegan]"
   ]
  },
  {
   "cell_type": "code",
   "execution_count": null,
   "metadata": {},
   "outputs": [],
   "source": [
    "print(cwbvegandf.shape)\n",
    "cwbvegandf.head()"
   ]
  },
  {
   "cell_type": "code",
   "execution_count": null,
   "metadata": {},
   "outputs": [],
   "source": [
    "restdf=cwbvegandf.groupby('Neighborhood').size().reset_index(name=\"Counts\")\n",
    "restdf.head()"
   ]
  },
  {
   "cell_type": "code",
   "execution_count": null,
   "metadata": {},
   "outputs": [],
   "source": [
    "cwb_onehot = pd.get_dummies(curitiba_restaurants[['Venue Category']], prefix=\"\", prefix_sep=\"\")   # Using dummies to Encode\n",
    "cwb_onehot['Neighborhood'] = curitiba_restaurants['Neighborhood']\n",
    "\n",
    "fixed_columns = [cwb_onehot.columns[79]] + list(cwb_onehot.columns[:79]) + list(cwb_onehot.columns[80:])  # Getting the Neighborhoods column to the first\n",
    "cwb_onehot = cwb_onehot[fixed_columns]\n",
    "\n",
    "print(cwb_onehot.shape)\n",
    "cwb_onehot.head()"
   ]
  },
  {
   "cell_type": "code",
   "execution_count": null,
   "metadata": {},
   "outputs": [],
   "source": [
    "cwb_grouped = cwb_onehot.groupby('Neighborhood').mean().reset_index()\n",
    "print(cwb_grouped.shape)\n",
    "cwb_grouped.head()"
   ]
  },
  {
   "cell_type": "code",
   "execution_count": null,
   "metadata": {},
   "outputs": [],
   "source": [
    "grouped_vegan = cwb_grouped[['Neighborhood','Vegetarian / Vegan Restaurant']]\n",
    "grouped_vegan = rest_neihborhood.join(grouped_vegan.set_index(\"Neighborhood\"), on=\"Neighborhood\")\n",
    "grouped_vegan = grouped_vegan.join(curitibadf.set_index(\"Neighborhood\"), on=\"Neighborhood\")\n",
    "grouped_vegan.drop(columns=\"Region\", inplace=True)\n",
    "grouped_vegan.dtypes"
   ]
  },
  {
   "cell_type": "code",
   "execution_count": null,
   "metadata": {},
   "outputs": [],
   "source": [
    "grouped_vegan['Population'] = grouped_vegan['Population'].str.replace('\\xa0', '', regex=True).astype(int)\n",
    "grouped_vegan['Households'] = grouped_vegan['Households'].str.replace('\\xa0', '', regex=True).astype(int)\n",
    "grouped_vegan['Average Salary'] = grouped_vegan['Average Salary'].str.replace('\\xa0', '', regex=True).str.replace(',', '').astype(int)"
   ]
  },
  {
   "cell_type": "code",
   "execution_count": null,
   "metadata": {},
   "outputs": [],
   "source": [
    "grouped_vegan.head()"
   ]
  },
  {
   "cell_type": "code",
   "execution_count": null,
   "metadata": {},
   "outputs": [],
   "source": [
    "\n",
    "grouped_vegan.dtypes"
   ]
  },
  {
   "cell_type": "code",
   "execution_count": null,
   "metadata": {},
   "outputs": [],
   "source": [
    "from sklearn.cluster import KMeans\n",
    "from yellowbrick.cluster import KElbowVisualizer\n",
    "\n",
    "cwb_part_clustering = grouped_vegan.drop('Neighborhood', 1)\n",
    "\n",
    "# Instantiate the clustering model and visualizer\n",
    "model = KMeans()\n",
    "visualizer = KElbowVisualizer(model, k=(5,10), metric='silhouette', size=(1080, 720))\n",
    "\n",
    "visualizer.fit(cwb_part_clustering) # Fit the data to the visualizer\n",
    "visualizer.poof() # Draw/show/poof the dat'\n"
   ]
  },
  {
   "cell_type": "code",
   "execution_count": null,
   "metadata": {},
   "outputs": [],
   "source": [
    "# set number of clusters\n",
    "kclusters = 6\n",
    "\n",
    "cwb_grouped_clustering = grouped_vegan.drop('Neighborhood', 1)\n",
    "\n",
    "# run k-means clustering\n",
    "kmeans = KMeans(n_clusters=kclusters, random_state=0).fit(cwb_grouped_clustering)\n",
    "\n",
    "# check cluster labels generated for each row in the dataframe\n",
    "kmeans.labels_[0:]"
   ]
  },
  {
   "cell_type": "code",
   "execution_count": null,
   "metadata": {},
   "outputs": [],
   "source": [
    "cwb_grouped = grouped_vegan.copy(deep=True)\n",
    "cwb_grouped['Cluster Labels'] = kmeans.labels_    # Adding the labels to the data\n",
    "cwb_grouped['Cluster Labels'] = cwb_grouped['Cluster Labels'].astype(int)  \n",
    "print(cwb_grouped.shape)\n",
    "cwb_grouped"
   ]
  },
  {
   "cell_type": "code",
   "execution_count": null,
   "metadata": {},
   "outputs": [],
   "source": [
    "to_merged = cwb_grouped.join(curitiba_restaurants.set_index(\"Neighborhood\"), on=\"Neighborhood\") # Merge with the original data\n",
    "print(to_merged.shape)\n",
    "to_merged.head(200)"
   ]
  },
  {
   "cell_type": "code",
   "execution_count": null,
   "metadata": {},
   "outputs": [],
   "source": [
    "map_clusters = folium.Map(location=[latitude,longitude], zoom_start=11)\n",
    "\n",
    "# set color scheme for the clusters\n",
    "x = np.arange(kclusters)\n",
    "ys = [i+x+(i*x)**2 for i in range(kclusters)]\n",
    "colors_array = cm.rainbow(np.linspace(0, 1, len(ys)))\n",
    "rainbow = [colors.rgb2hex(i) for i in colors_array]\n",
    "\n",
    "# add markers to the map\n",
    "markers_colors = []\n",
    "for lat, lon, poi, cluster in zip(to_merged['Neighborhood Latitude'], to_merged['Neighborhood Longitude'], to_merged['Neighborhood'], to_merged['Cluster Labels']):\n",
    "    label = folium.Popup(str(poi) + ' - Cluster ' + str(cluster))\n",
    "    folium.CircleMarker(\n",
    "        [lat, lon],\n",
    "        radius=5,\n",
    "        popup=label,\n",
    "        color=rainbow[cluster-1],\n",
    "        fill=True,\n",
    "        fill_color=rainbow[cluster-1],\n",
    "        fill_opacity=0.7).add_to(map_clusters)\n",
    "       \n",
    "map_clusters"
   ]
  },
  {
   "cell_type": "code",
   "execution_count": null,
   "metadata": {},
   "outputs": [],
   "source": [
    "cluster1 = cwb_grouped['Cluster Labels']==1\n",
    "cluster1df = cwb_grouped[cluster1]\n",
    "cluster1df.head()"
   ]
  },
  {
   "cell_type": "code",
   "execution_count": null,
   "metadata": {},
   "outputs": [],
   "source": [
    "cluster2 = cwb_grouped['Cluster Labels']==2\n",
    "cluster2df = cwb_grouped[cluster2]\n",
    "cluster2df.head()"
   ]
  },
  {
   "cell_type": "code",
   "execution_count": null,
   "metadata": {
    "scrolled": true
   },
   "outputs": [],
   "source": [
    "cluster3 = cwb_grouped['Cluster Labels']==3\n",
    "cluster3df = cwb_grouped[cluster3]\n",
    "cluster3df"
   ]
  },
  {
   "cell_type": "code",
   "execution_count": null,
   "metadata": {},
   "outputs": [],
   "source": [
    "cluster4 = cwb_grouped['Cluster Labels']==4\n",
    "cluster4df = cwb_grouped[cluster4]\n",
    "cluster4df.head()"
   ]
  },
  {
   "cell_type": "code",
   "execution_count": null,
   "metadata": {},
   "outputs": [],
   "source": [
    "cluster5 = cwb_grouped['Cluster Labels']==5\n",
    "cluster5df = cwb_grouped[cluster5]\n",
    "cluster5df"
   ]
  },
  {
   "cell_type": "code",
   "execution_count": null,
   "metadata": {},
   "outputs": [],
   "source": [
    "cluster0 = cwb_grouped['Cluster Labels']==0\n",
    "cluster0df = cwb_grouped[cluster0]\n",
    "cluster0df"
   ]
  },
  {
   "cell_type": "code",
   "execution_count": null,
   "metadata": {},
   "outputs": [],
   "source": [
    "cluster0df.plot(x='Neighborhood',y= 'Vegetarian / Vegan Restaurant',kind='bar')"
   ]
  },
  {
   "cell_type": "code",
   "execution_count": null,
   "metadata": {},
   "outputs": [],
   "source": [
    "neighbor = cluster0df['Vegetarian / Vegan Restaurant']==0.000000\n",
    "neighbordf = cluster0df[neighbor]\n",
    "neighbordf"
   ]
  },
  {
   "cell_type": "code",
   "execution_count": null,
   "metadata": {},
   "outputs": [],
   "source": [
    "map_neighbor = folium.Map(location=[latitude,longitude], zoom_start=11)\n",
    "\n",
    "# add popular spots to the map as blue circle markers\n",
    "for lat, lng, borough, neighbourhood in zip(neighbordf['Latitude'],neighbordf['Longitude'],neighbordf['Cluster Labels'], neighbordf['Neighborhood']):\n",
    "    label = '{},{}'.format(neighbourhood, borough)\n",
    "    label = folium.Popup(label, parse_html=True)\n",
    "    folium.CircleMarker(\n",
    "        [lat, lng],\n",
    "        radius=5,\n",
    "        popup=label,\n",
    "        fill=True,\n",
    "        color='blue',\n",
    "        fill_color='blue',\n",
    "        fill_opacity=0.6\n",
    "        ).add_to(map_neighbor)\n",
    "       \n",
    "map_neighbor"
   ]
  },
  {
   "cell_type": "code",
   "execution_count": null,
   "metadata": {},
   "outputs": [],
   "source": []
  }
 ],
 "metadata": {
  "kernelspec": {
   "display_name": "Python 3",
   "language": "python",
   "name": "python3"
  },
  "language_info": {
   "codemirror_mode": {
    "name": "ipython",
    "version": 3
   },
   "file_extension": ".py",
   "mimetype": "text/x-python",
   "name": "python",
   "nbconvert_exporter": "python",
   "pygments_lexer": "ipython3",
   "version": "3.8.5"
  }
 },
 "nbformat": 4,
 "nbformat_minor": 4
}
